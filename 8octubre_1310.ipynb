{
  "nbformat": 4,
  "nbformat_minor": 0,
  "metadata": {
    "colab": {
      "name": "8octubre_1310.ipynb",
      "provenance": [],
      "authorship_tag": "ABX9TyMSCFTes4289Egr+wzcf1Db",
      "include_colab_link": true
    },
    "kernelspec": {
      "name": "python3",
      "display_name": "Python 3"
    }
  },
  "cells": [
    {
      "cell_type": "markdown",
      "metadata": {
        "id": "view-in-github",
        "colab_type": "text"
      },
      "source": [
        "<a href=\"https://colab.research.google.com/github/ElseJarl7/edd_1310_2021/blob/master/8octubre_1310.ipynb\" target=\"_parent\"><img src=\"https://colab.research.google.com/assets/colab-badge.svg\" alt=\"Open In Colab\"/></a>"
      ]
    },
    {
      "cell_type": "code",
      "metadata": {
        "id": "1xJMXiA3_XPj",
        "outputId": "76088a71-ff2d-4c7a-d75e-3a0d62260f68",
        "colab": {
          "base_uri": "https://localhost:8080/",
          "height": 173
        }
      },
      "source": [
        "#listas multidimension\n",
        "monitores =[[\"Samsung\",\"17.3 \\\"\",1024],[\"BenQ\",\"40\\\"\",2048]]\n",
        "procesadores = [[\"Intel\",\"i7\",3.4],[\"AMD\",\"razzer\",3.3],[\"Intel\",\"i3\",3.1]]\n",
        "memorias = [[\"Kingston\", \"8GB\",\"DDR4\"],[\"Kingston\", \"16GB\",\"DDR3\"],[\"ADATA\", \"32GB\",\"DDR4\"]]\n",
        "\n",
        "componentes = [monitores,procesadores,memorias]\n",
        "\n",
        "print(componentes)\n",
        "print(\"__________________\")\n",
        "print(componentes[1])\n",
        "print(componentes[2][1][1])\n",
        "print ((componentes[0][1][2])*2)\n",
        "print(componentes[1][1][1][1:4])\n",
        "#adata\n",
        "print (componentes[2][2][0].lower())\n",
        "componentes[2].append([\"Patito\", \"32 GB\", \"DDR4\"])\n",
        "print(componentes[2])\n"
      ],
      "execution_count": 18,
      "outputs": [
        {
          "output_type": "stream",
          "text": [
            "[[['Samsung', '17.3 \"', 1024], ['BenQ', '40\"', 2048]], [['Intel', 'i7', 3.4], ['AMD', 'razzer', 3.3], ['Intel', 'i3', 3.1]], [['Kingston', '8GB', 'DDR4'], ['Kingston', '16GB', 'DDR3'], ['ADATA', '32GB', 'DDR4']]]\n",
            "__________________\n",
            "[['Intel', 'i7', 3.4], ['AMD', 'razzer', 3.3], ['Intel', 'i3', 3.1]]\n",
            "16GB\n",
            "4096\n",
            "azz\n",
            "adata\n",
            "[['Kingston', '8GB', 'DDR4'], ['Kingston', '16GB', 'DDR3'], ['ADATA', '32GB', 'DDR4'], ['Patito', '32 GB', 'DDR4']]\n"
          ],
          "name": "stdout"
        }
      ]
    },
    {
      "cell_type": "code",
      "metadata": {
        "id": "TuWIIr9hH2TF",
        "outputId": "e5a80b22-d9a2-4b63-c3de-86c7834ed96f",
        "colab": {
          "base_uri": "https://localhost:8080/",
          "height": 187
        }
      },
      "source": [
        "# copiar listas\n",
        "# extender listas\n",
        "frutas = [\"manzana\", \"pera\"]\n",
        "otras_frutas =[\"aguacate\" ,\"sandia\"]\n",
        "\n",
        "print(frutas + otras_frutas)\n",
        "print(frutas)\n",
        "\n",
        "# + sobre listas\n",
        "#frutas = frutas + otras_frutas\n",
        "#print (frutas)\n",
        "\n",
        "#funcion extend()\n",
        "#frutas.extend(otras_frutas)\n",
        "#print(frutas)\n",
        "\n",
        "#frutas.append(otras_frutas)\n",
        "#print(frutas)\n",
        "\n",
        "\n",
        "\n",
        "\n",
        "\n",
        "\n",
        "# copiar\n",
        "colores = [\"azul\", \"rojo\", \"verde\", \"verde\", \"violeta\"]\n",
        "otros_colores = colores #aquí solamente comparte el mismo espacio de memoria\n",
        "print(colores)\n",
        "print(otros_colores)\n",
        "otros_colores.append(\"Rosa\")# por lo que si se modifica uno le otro también\n",
        "print(colores)\n",
        "print(otros_colores)\n",
        "\n",
        "#en este ocupa otra espacio de memoria, asi que si se modifica uno (la copia, por ejemplo) el otro queda intacto\n",
        "una_mas = colores.copy() # una_mas es una copia de colores\n",
        "print(una_mas)\n",
        "una_mas.append(\"gris\")  # a una_mas le agregamos gris y lo imprimimos\n",
        "print(una_mas)          \n",
        "print(colores)          \n",
        "\n",
        "\n",
        "# unpaking de listas\n",
        "\n",
        "alumno = [\"Jesus\", \"Perez\", \"Herrera\", 22 ,\"ICO\", 10.0] # <- y aquí *\n",
        "#nombre = alumno[0]    #aqui se tendria que escribir 7 lineas de código\n",
        "#paterno = alumno[1]\n",
        "#etc.\n",
        "nombre,paterno, materno, edad, carrera, promedio = alumno  #aqui solo dos, el requisito es: deben tener es mismo número de elementos que quieres desempaquetar-> aqui *\n",
        "print(f\"Alumno:{nombre} carrera:{carrera} promedio:{promedio}\")"
      ],
      "execution_count": 30,
      "outputs": [
        {
          "output_type": "stream",
          "text": [
            "['manzana', 'pera', 'aguacate', 'sandia']\n",
            "['manzana', 'pera']\n",
            "['azul', 'rojo', 'verde', 'verde', 'violeta']\n",
            "['azul', 'rojo', 'verde', 'verde', 'violeta']\n",
            "['azul', 'rojo', 'verde', 'verde', 'violeta', 'Rosa']\n",
            "['azul', 'rojo', 'verde', 'verde', 'violeta', 'Rosa']\n",
            "['azul', 'rojo', 'verde', 'verde', 'violeta', 'Rosa']\n",
            "['azul', 'rojo', 'verde', 'verde', 'violeta', 'Rosa', 'gris']\n",
            "['azul', 'rojo', 'verde', 'verde', 'violeta', 'Rosa']\n",
            "Alumno:Jesus carrera:ICO promedio:10.0\n"
          ],
          "name": "stdout"
        }
      ]
    },
    {
      "cell_type": "markdown",
      "metadata": {
        "id": "dO-H3z1iR2OM"
      },
      "source": [
        "# Tuplas\n",
        "\n",
        "- No son mutables\n",
        "\n",
        "- Se declaran con ( )\n",
        "\n",
        "- Selector con [ ]"
      ]
    },
    {
      "cell_type": "code",
      "metadata": {
        "id": "JyV-fF-sKShU",
        "outputId": "3e3e27a0-7259-4e79-d417-34f5f92692df",
        "colab": {
          "base_uri": "https://localhost:8080/",
          "height": 68
        }
      },
      "source": [
        "precios = (99.9, 49.9, 12.45, 23.3 ,33.44, 55.66) #lista de elementos constantes, es decir no se pueden modificar\n",
        "print(precios[1])  \n",
        "#precios[1]= 50.0   #error\n",
        "\n",
        "print(precios)\n",
        "print(precios[2:4])"
      ],
      "execution_count": 32,
      "outputs": [
        {
          "output_type": "stream",
          "text": [
            "49.9\n",
            "(99.9, 49.9, 12.45, 23.3, 33.44, 55.66)\n",
            "(12.45, 23.3)\n"
          ],
          "name": "stdout"
        }
      ]
    },
    {
      "cell_type": "markdown",
      "metadata": {
        "id": "V2X9an3rTlW1"
      },
      "source": [
        "# Diccionarios\n",
        "- Se declara con ( )\n",
        "\n",
        "- Si son mutables\n",
        "\n",
        "- Selector [str]\n",
        "\n",
        "- conjuntos pares llaves: valor\n",
        "\n",
        "- equivalentes a los objetos JSON de JavaScript"
      ]
    },
    {
      "cell_type": "code",
      "metadata": {
        "id": "L2FzVoK3T4Hn",
        "outputId": "ce79bbae-5675-4d8e-dde8-d3104a02b162",
        "colab": {
          "base_uri": "https://localhost:8080/",
          "height": 156
        }
      },
      "source": [
        "cliente = {    }\n",
        "print (cliente)\n",
        "alumno = {   \"num_cta\"   :303030303}\n",
        "print(alumno)\n",
        "print(\"________________________\")\n",
        "alumno = { \"num_cta\" :303030303, \n",
        "          \"carrera\":\"ICO\" ,\n",
        "          \"promedio\": 9.8 ,\n",
        "          \"materias\": [\"EDD\",\"CyP\", \"Calidad\", \"Emprendimiento\"],\n",
        "          \"direccion\" : {\n",
        "                            \"calle\":\"rancho seco\" ,\n",
        "                            \"numero\": 23 ,\n",
        "                            \"delegacion\": \"Neza\",\n",
        "                            \"estado\" : {\n",
        "                                        \"id\" : 15 ,\n",
        "                                        \"nombre\" :\"estado de México\" ,\n",
        "                                        \"nombre_corto\": \"EdoMex\"\n",
        "                                        } ,\n",
        "                            \"CP\" :57170\n",
        "                        }\n",
        "\n",
        "          }\n",
        "print(alumno)\n",
        "print(alumno['materias'])\n",
        "print(alumno['promedio'])\n",
        "print(alumno['direccion']['estado']['id'])\n"
      ],
      "execution_count": 52,
      "outputs": [
        {
          "output_type": "stream",
          "text": [
            "{}\n",
            "{'num_cta': 303030303}\n",
            "________________________\n",
            "{'num_cta': 303030303, 'carrera': 'ICO', 'promedio': 9.8, 'materias': ['EDD', 'CyP', 'Calidad', 'Emprendimiento'], 'direccion': {'calle': 'rancho seco', 'numero': 23, 'delegacion': 'Neza', 'estado': {'id': 15, 'nombre': 'estado de México', 'nombre_corto': 'EdoMex'}, 'CP': 57170}}\n",
            "['EDD', 'CyP', 'Calidad', 'Emprendimiento']\n",
            "9.8\n",
            "15\n"
          ],
          "name": "stdout"
        }
      ]
    }
  ]
}