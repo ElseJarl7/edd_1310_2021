{
  "nbformat": 4,
  "nbformat_minor": 0,
  "metadata": {
    "colab": {
      "name": "13octubre_1310.ipynb",
      "provenance": [],
      "authorship_tag": "ABX9TyNHnW4Vu58XtN94bixNtwqd",
      "include_colab_link": true
    },
    "kernelspec": {
      "name": "python3",
      "display_name": "Python 3"
    }
  },
  "cells": [
    {
      "cell_type": "markdown",
      "metadata": {
        "id": "view-in-github",
        "colab_type": "text"
      },
      "source": [
        "<a href=\"https://colab.research.google.com/github/ElseJarl7/edd_1310_2021/blob/master/13octubre_1310.ipynb\" target=\"_parent\"><img src=\"https://colab.research.google.com/assets/colab-badge.svg\" alt=\"Open In Colab\"/></a>"
      ]
    },
    {
      "cell_type": "code",
      "metadata": {
        "id": "zQnAzckgxbxK",
        "outputId": "168f454e-8b0d-4189-e8f1-726f789d1d00",
        "colab": {
          "base_uri": "https://localhost:8080/",
          "height": 88
        }
      },
      "source": [
        "# Diccionarios\n",
        "alumno = { \n",
        "          \"num_cta\" : 303030303 ,\n",
        "          \"carrera\" : \"ICO\",\n",
        "          \"promedio\" : 9.8,\n",
        "          \"materias\" :[\"EDD\",\"CyP\",\"Calidad\",\"Emprendimiento\"],\n",
        "          \"direccion\" : { \n",
        "                            \"calle\":\"rancho seco\",\n",
        "                            \"numero\" : 23 ,\n",
        "                            \"delegacion\" : \"Neza\",\n",
        "                            \"estado\" : {\n",
        "                                        \"id\" : 15 ,\n",
        "                                        \"nombre\" : \"Estado de Máxico\" ,\n",
        "                                        \"nombre_corto\" : \"EdoMex\"\n",
        "                                        } ,\n",
        "                            \"CP\":57170\n",
        "\n",
        "                        } \n",
        "          }\n",
        "\n",
        "print(alumno)\n",
        "alumno['carrera'] = \"Ingeniería en Computación\"\n",
        "print(alumno)\n",
        "alumno ['nombre_completo'] = { 'primero' : 'Juan',\n",
        "                              'segundo' : 'Pedro',\n",
        "                              'materno' : 'Pérez',\n",
        "                               'paterno' : 'Gómez'   \n",
        "                               }\n",
        "alumno['semestre']=3\n",
        "print(alumno)\n",
        "\n",
        "\n",
        "\n",
        "\n"
      ],
      "execution_count": 26,
      "outputs": [
        {
          "output_type": "stream",
          "text": [
            "{'num_cta': 303030303, 'carrera': 'ICO', 'promedio': 9.8, 'materias': ['EDD', 'CyP', 'Calidad', 'Emprendimiento'], 'direccion': {'calle': 'rancho seco', 'numero': 23, 'delegacion': 'Neza', 'estado': {'id': 15, 'nombre': 'Estado de Máxico', 'nombre_corto': 'EdoMex'}, 'CP': 57170}}\n",
            "{'num_cta': 303030303, 'carrera': 'Ingeniería en Computación', 'promedio': 9.8, 'materias': ['EDD', 'CyP', 'Calidad', 'Emprendimiento'], 'direccion': {'calle': 'rancho seco', 'numero': 23, 'delegacion': 'Neza', 'estado': {'id': 15, 'nombre': 'Estado de Máxico', 'nombre_corto': 'EdoMex'}, 'CP': 57170}}\n",
            "{'num_cta': 303030303, 'carrera': 'Ingeniería en Computación', 'promedio': 9.8, 'materias': ['EDD', 'CyP', 'Calidad', 'Emprendimiento'], 'direccion': {'calle': 'rancho seco', 'numero': 23, 'delegacion': 'Neza', 'estado': {'id': 15, 'nombre': 'Estado de Máxico', 'nombre_corto': 'EdoMex'}, 'CP': 57170}, 'nombre_completo': {'primero': 'Juan', 'segundo': 'Pedro', 'materno': 'Pérez', 'paterno': 'Gómez'}, 'semestre': 3}\n"
          ],
          "name": "stdout"
        }
      ]
    },
    {
      "cell_type": "code",
      "metadata": {
        "id": "68Bf4P8Jychu",
        "outputId": "979e2dc0-1af5-4d00-8f74-87d1a09e8f18",
        "colab": {
          "base_uri": "https://localhost:8080/",
          "height": 428
        }
      },
      "source": [
        "# key ()  , values(),   y  items()\n",
        "\n",
        "llaves = alumno.keys()\n",
        "print(llaves)\n",
        "\n",
        "\n",
        "for llave in llaves:\n",
        "  print(llave.upper())\n",
        "\n",
        "valores = alumno.values()\n",
        "for val in valores:\n",
        "  print(val)\n",
        "\n",
        "pares = alumno.items()\n",
        "print (pares)\n",
        "for elem in pares:\n",
        "  print(f\"el campo { elem[0] } tiene el valor {elem[1] }\")\n"
      ],
      "execution_count": 28,
      "outputs": [
        {
          "output_type": "stream",
          "text": [
            "dict_keys(['num_cta', 'carrera', 'promedio', 'materias', 'direccion', 'nombre_completo', 'semestre'])\n",
            "NUM_CTA\n",
            "CARRERA\n",
            "PROMEDIO\n",
            "MATERIAS\n",
            "DIRECCION\n",
            "NOMBRE_COMPLETO\n",
            "SEMESTRE\n",
            "303030303\n",
            "Ingeniería en Computación\n",
            "9.8\n",
            "['EDD', 'CyP', 'Calidad', 'Emprendimiento']\n",
            "{'calle': 'rancho seco', 'numero': 23, 'delegacion': 'Neza', 'estado': {'id': 15, 'nombre': 'Estado de Máxico', 'nombre_corto': 'EdoMex'}, 'CP': 57170}\n",
            "{'primero': 'Juan', 'segundo': 'Pedro', 'materno': 'Pérez', 'paterno': 'Gómez'}\n",
            "3\n",
            "dict_items([('num_cta', 303030303), ('carrera', 'Ingeniería en Computación'), ('promedio', 9.8), ('materias', ['EDD', 'CyP', 'Calidad', 'Emprendimiento']), ('direccion', {'calle': 'rancho seco', 'numero': 23, 'delegacion': 'Neza', 'estado': {'id': 15, 'nombre': 'Estado de Máxico', 'nombre_corto': 'EdoMex'}, 'CP': 57170}), ('nombre_completo', {'primero': 'Juan', 'segundo': 'Pedro', 'materno': 'Pérez', 'paterno': 'Gómez'}), ('semestre', 3)])\n",
            "el campo num_cta tiene el valor 303030303\n",
            "el campo carrera tiene el valor Ingeniería en Computación\n",
            "el campo promedio tiene el valor 9.8\n",
            "el campo materias tiene el valor ['EDD', 'CyP', 'Calidad', 'Emprendimiento']\n",
            "el campo direccion tiene el valor {'calle': 'rancho seco', 'numero': 23, 'delegacion': 'Neza', 'estado': {'id': 15, 'nombre': 'Estado de Máxico', 'nombre_corto': 'EdoMex'}, 'CP': 57170}\n",
            "el campo nombre_completo tiene el valor {'primero': 'Juan', 'segundo': 'Pedro', 'materno': 'Pérez', 'paterno': 'Gómez'}\n",
            "el campo semestre tiene el valor 3\n"
          ],
          "name": "stdout"
        }
      ]
    },
    {
      "cell_type": "code",
      "metadata": {
        "id": "W-4cOeE207Bg",
        "outputId": "8da4c3c8-c10e-4878-c7b1-3148f1421845",
        "colab": {
          "base_uri": "https://localhost:8080/",
          "height": 34
        }
      },
      "source": [
        "# Concatenar\n",
        "computadora = {\"procesador\" : \"Intel i7\", \"ram\" : \"Kingston 128GB\"}\n",
        "otros = {\"monitor\" : \"LG 49\\\" \",\"hd\": \"Toshiba 1TB\"}\n",
        "computadora.update(otros)\n",
        "print(computadora)"
      ],
      "execution_count": 6,
      "outputs": [
        {
          "output_type": "stream",
          "text": [
            "{'procesador': 'Intel i7', 'ram': 'Kingston 128GB', 'monitor': 'LG 49\" ', 'hd': 'Toshiba 1TB'}\n"
          ],
          "name": "stdout"
        }
      ]
    },
    {
      "cell_type": "markdown",
      "metadata": {
        "id": "Vws8Hqbn2_ts"
      },
      "source": [
        "# Funciones \n",
        "- unidades de código reutilizable \n",
        "- es un mecanismo de organización\n",
        "- Una funcions toma 0 a n parametros de entrada\n",
        "- tiene una sola salida (return ) de cualquier tipo de dato\n",
        "- solo puede hacer dos cosas\n",
        "      °definirla\n",
        "      °llamarla\n",
        "\n",
        "- se define con la palabra reservada 'del'"
      ]
    },
    {
      "cell_type": "code",
      "metadata": {
        "id": "Lpc6d1t43wnw",
        "outputId": "6f04ac84-b586-4111-b5de-70cba4c6e221",
        "colab": {
          "base_uri": "https://localhost:8080/",
          "height": 204
        }
      },
      "source": [
        "def sumar (x , y):\n",
        "      resultado = x + y\n",
        "      return resultado \n",
        "\n",
        "def saludar (nombre):\n",
        "    print(f\" Hola {nombre}, ¿Cómo estas?\")\n",
        "\n",
        "    #procesar none\n",
        "\n",
        "def multiplicar (valor, veces):\n",
        "    if valor != None:  \n",
        "      c = valor * veces\n",
        "    else:\n",
        "      c = \"Operacion no valida\"\n",
        "    return c\n",
        "\n",
        "def operacion (a, b, c ):\n",
        "    res = a + (b / c)\n",
        "    return res\n",
        "\n",
        "\n",
        "\n",
        "\n",
        "\n",
        "\n",
        "\n",
        "print(sumar(10,5))\n",
        "print(sumar(2,6))\n",
        "c = sumar (3,7)\n",
        "print(c)\n",
        "saludar (\"Juan\")\n",
        "print(saludar('Jose'))\n",
        "\n",
        "print(multiplicar(5,6))\n",
        "print(multiplicar(None,2))\n",
        "\n",
        "print (operacion(2,9,3))\n",
        "\n",
        "print (operacion(2,3,9))\n",
        "print(operacion (a=2,c=3,b=9))\n"
      ],
      "execution_count": 37,
      "outputs": [
        {
          "output_type": "stream",
          "text": [
            "15\n",
            "8\n",
            "10\n",
            " Hola Juan, ¿Cómo estas?\n",
            " Hola Jose, ¿Cómo estas?\n",
            "None\n",
            "30\n",
            "Operacion no valida\n",
            "5.0\n",
            "2.3333333333333335\n",
            "5.0\n"
          ],
          "name": "stdout"
        }
      ]
    },
    {
      "cell_type": "code",
      "metadata": {
        "id": "Keclkb9Q3-Wk",
        "outputId": "3a018664-3360-4896-b63d-6ed78f9a45c8",
        "colab": {
          "base_uri": "https://localhost:8080/",
          "height": 272
        }
      },
      "source": [
        "# Valores por defecto\n",
        "def comanda (primer , fuerte , postre = \"Galleta de animalito\" ):\n",
        "    print(f\"De entrada pidio: {primer}\")\n",
        "    print(f\"De plato fuerte: {fuerte}\")\n",
        "    print(f\"Postre: {postre}\")\n",
        "\n",
        "# argumentos poscicionales con tuplas *\n",
        "def comanda_2( *opciones ):\n",
        "    print(opciones)\n",
        "    print(f\"De entrada pidio:{opciones[0]}\")\n",
        "    print(f\"De plato fuerte: {opciones[1]}\")\n",
        "    print(f\"Postre: {opciones[2]}\")\n",
        "\n",
        "    print(\"\\nIndicaciones extra\")\n",
        "    for ind in opciones[3::]:\n",
        "        print(f\"\\t {ind}\")\n",
        "\n",
        "\n",
        "comanda(\"sopa aguada\", \"Tortas de papa\", \"Gelatina de limon\")\n",
        "comanda(\"sopa aguada\", \"Tortas de papa\")\n",
        "comanda_2(\"sopa aguada\", \"Tortas de papa\", \"Gelatina de limon\", \"las tortas bien doradas \",\"traer dos limones\",\"traer hielo\")"
      ],
      "execution_count": 48,
      "outputs": [
        {
          "output_type": "stream",
          "text": [
            "De entrada pidio: sopa aguada\n",
            "De plato fuerte: Tortas de papa\n",
            "Postre: Gelatina de limon\n",
            "De entrada pidio: sopa aguada\n",
            "De plato fuerte: Tortas de papa\n",
            "Postre: Galleta de animalito\n",
            "('sopa aguada', 'Tortas de papa', 'Gelatina de limon', 'las tortas bien doradas ', ' traer dos limones', 'traer hielo')\n",
            "De entrada pidio:sopa aguada\n",
            "De plato fuerte: Tortas de papa\n",
            "Postre: Gelatina de limon\n",
            "\n",
            "Indicaciones extra\n",
            "\t las tortas bien doradas \n",
            "\t  traer dos limones\n",
            "\t traer hielo\n"
          ],
          "name": "stdout"
        }
      ]
    },
    {
      "cell_type": "code",
      "metadata": {
        "id": "cXJHVRziB5FO",
        "outputId": "1396bd77-2cc8-442c-e1ba-a3030f03668f",
        "colab": {
          "base_uri": "https://localhost:8080/",
          "height": 136
        }
      },
      "source": [
        "# argumentos posicionales con diccionarios **\n",
        "def comanda_3(**opciones):\n",
        "    print(opciones)\n",
        "    for op in opciones.items():\n",
        "        print(f\"{op[0]}--> {op[1]}\")\n",
        "comanda_3(primer=\"sopa aguada\",fuerte = \"Tortas de papa\", postre = \"Gelatina de limon\", \n",
        "          extra1 = \"las tortas bien doradas \", extra2 =\"traer dos limones\", extra3 =\"traer hielo\")\n"
      ],
      "execution_count": 51,
      "outputs": [
        {
          "output_type": "stream",
          "text": [
            "{'primer': 'sopa aguada', 'fuerte': 'Tortas de papa', 'postre': 'Gelatina de limon', 'extra1': 'las tortas bien doradas ', 'extra2': 'traer dos limones', 'extra3': 'traer hielo'}\n",
            "primer--> sopa aguada\n",
            "fuerte--> Tortas de papa\n",
            "postre--> Gelatina de limon\n",
            "extra1--> las tortas bien doradas \n",
            "extra2--> traer dos limones\n",
            "extra3--> traer hielo\n"
          ],
          "name": "stdout"
        }
      ]
    }
  ]
}