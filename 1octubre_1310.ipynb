{
  "nbformat": 4,
  "nbformat_minor": 0,
  "metadata": {
    "colab": {
      "name": "1octubre_1310_.ipynb",
      "provenance": [],
      "authorship_tag": "ABX9TyOtt1OwrqHwv3YuLzowVJ3j",
      "include_colab_link": true
    },
    "kernelspec": {
      "name": "python3",
      "display_name": "Python 3"
    }
  },
  "cells": [
    {
      "cell_type": "markdown",
      "metadata": {
        "id": "view-in-github",
        "colab_type": "text"
      },
      "source": [
        "<a href=\"https://colab.research.google.com/github/ElseJarl7/edd_1310_2021/blob/master/1octubre_1310.ipynb\" target=\"_parent\"><img src=\"https://colab.research.google.com/assets/colab-badge.svg\" alt=\"Open In Colab\"/></a>"
      ]
    },
    {
      "cell_type": "markdown",
      "metadata": {
        "id": "VN3k-8g-71qt"
      },
      "source": [
        "Intro Python\n",
        "***\n",
        "Variables\n",
        "***\n",
        "tipo dinamico\n",
        "***\n",
        "escuela = \"FES Aragón\""
      ]
    },
    {
      "cell_type": "code",
      "metadata": {
        "id": "Tp_fgcEb7vIX",
        "outputId": "d3db38fe-35f5-422b-accb-5578f4eff489",
        "colab": {
          "base_uri": "https://localhost:8080/",
          "height": 153
        }
      },
      "source": [
        "escuela = \"FES Aragón\"\n",
        "print (escuela)\n",
        "print (\"--------\")\n",
        "edad = 13\n",
        "estatura = 1.67\n",
        "fumador = True\n",
        "frase = \"\"\"\n",
        "Esta es \n",
        "una frase\n",
        "de multiples líneas\n",
        "y tambien es un tipo de dato\n",
        "\"\"\"\n",
        "\n",
        "print (frase)\n",
        "nombre = 'jose'\n",
        "nombre_completo = \"jose sosa cardenas\""
      ],
      "execution_count": 1,
      "outputs": [
        {
          "output_type": "stream",
          "text": [
            "FES Aragón\n",
            "--------\n",
            "\n",
            "Esta es \n",
            "una frase\n",
            "de multiples líneas\n",
            "y tambien es una tipo de dato\n",
            "\n"
          ],
          "name": "stdout"
        }
      ]
    },
    {
      "cell_type": "markdown",
      "metadata": {
        "id": "gLsKc43l92Uy"
      },
      "source": [
        "# Print \n",
        "\n",
        "con comas ,\n",
        "\n",
        "con signo mas +\n",
        "\n",
        "con forma()\n",
        "\n",
        "con el operador f\"\"\n"
      ]
    },
    {
      "cell_type": "code",
      "metadata": {
        "id": "6E9ik9Ye-lLn",
        "outputId": "9f3e7c45-41f4-4fd8-ddf3-f516b59b803e",
        "colab": {
          "base_uri": "https://localhost:8080/",
          "height": 34
        }
      },
      "source": [
        "# imprime lo que sea\n",
        "print (nombre,edad)"
      ],
      "execution_count": 2,
      "outputs": [
        {
          "output_type": "stream",
          "text": [
            "jose 13\n"
          ],
          "name": "stdout"
        }
      ]
    },
    {
      "cell_type": "code",
      "metadata": {
        "id": "Hx8Ofg1s_ArO",
        "outputId": "7154a5da-9499-4567-c438-756626df56f4",
        "colab": {
          "base_uri": "https://localhost:8080/",
          "height": 51
        }
      },
      "source": [
        "# + concatena, se tiene que cambiar el tipo de dato, es decir tienen que ser del mismo tipo.\n",
        "print (nombre + str(edad))\n",
        "print (nombre+nombre_completo)"
      ],
      "execution_count": 4,
      "outputs": [
        {
          "output_type": "stream",
          "text": [
            "jose13\n",
            "josejose sosa cardenas\n"
          ],
          "name": "stdout"
        }
      ]
    },
    {
      "cell_type": "code",
      "metadata": {
        "id": "USzABjceARyM",
        "outputId": "79842904-7f46-4641-e757-8c07dd528733",
        "colab": {
          "base_uri": "https://localhost:8080/",
          "height": 68
        }
      },
      "source": [
        "# con formato ---> Su nombre es Jose y su edad es de 13 años.\n",
        "print (\"Su nombre es\",nombre,\"y su edad es de\",edad,\"años\")\n",
        "print (\"Su nombre es {0} y su edad es de {1} años.\".format(nombre,edad) )\n",
        "print (\"Su nombre es {1} y su edad es de {0} años.\".format(nombre,edad) )"
      ],
      "execution_count": 9,
      "outputs": [
        {
          "output_type": "stream",
          "text": [
            "Su nombre es jose y su edad es de 13 años\n",
            "Su nombre es jose y su edad es de 13 años.\n",
            "Su nombre es 13 y su edad es de jose años.\n"
          ],
          "name": "stdout"
        }
      ]
    },
    {
      "cell_type": "code",
      "metadata": {
        "id": "auXzS1qkBzrg",
        "outputId": "e57d92ad-6e6c-4bb5-f3af-26052d9682d2",
        "colab": {
          "base_uri": "https://localhost:8080/",
          "height": 34
        }
      },
      "source": [
        "#con formato con el operador f \"\"\n",
        "print (f\"Su nombre es {nombre} y su edad es de {edad} años\")\n"
      ],
      "execution_count": 10,
      "outputs": [
        {
          "output_type": "stream",
          "text": [
            "Su nombre es jose y su edad es de 13 años\n"
          ],
          "name": "stdout"
        }
      ]
    },
    {
      "cell_type": "markdown",
      "metadata": {
        "id": "U75ZIZfJCOta"
      },
      "source": [
        "# Carácter de escape \n",
        "\\n salto de escape\n",
        "\n",
        "\\t tabulador\n",
        "\n",
        "\\a beep\n",
        "\n",
        "\\\\\" imprimir comilla doble\n",
        "\n",
        "\\\\' imprimir comilla simple"
      ]
    },
    {
      "cell_type": "code",
      "metadata": {
        "id": "G3yeCX5XDFck",
        "outputId": "ef5e5d6c-2877-4dec-b44b-89282eb8472b",
        "colab": {
          "base_uri": "https://localhost:8080/",
          "height": 51
        }
      },
      "source": [
        "\"\"\"\n",
        "Esto es \n",
        "un comentario\n",
        "de multiple línea\n",
        "tan tan\n",
        "\"\"\"\n",
        "print (f\"\\tMi nombre es\\n\\t\\t {nombre}\")"
      ],
      "execution_count": 11,
      "outputs": [
        {
          "output_type": "stream",
          "text": [
            "\tMi nombre es\n",
            "\t\t jose\n"
          ],
          "name": "stdout"
        }
      ]
    },
    {
      "cell_type": "markdown",
      "metadata": {
        "id": "RuFMJfGsDtto"
      },
      "source": [
        "# Ayuda de tipos de dato en python \n",
        "dir()\n",
        "\n",
        "help()"
      ]
    },
    {
      "cell_type": "code",
      "metadata": {
        "id": "jrDkifIlEN35"
      },
      "source": [
        "# str, int, float, bool ... list, dict, set\n",
        "help (str)"
      ],
      "execution_count": null,
      "outputs": []
    },
    {
      "cell_type": "code",
      "metadata": {
        "id": "htL58ei5FMXf",
        "outputId": "1beefb46-70e1-45b0-e9da-6f6bc50c3846",
        "colab": {
          "base_uri": "https://localhost:8080/",
          "height": 51
        }
      },
      "source": [
        "print(nombre_completo.capitalize())\n",
        "print(nombre_completo.upper(), end= \"----\")\n",
        "print(nombre_completo.title())"
      ],
      "execution_count": 15,
      "outputs": [
        {
          "output_type": "stream",
          "text": [
            "Jose sosa cardenas\n",
            "JOSE SOSA CARDENAS----Jose Sosa Cardenas\n"
          ],
          "name": "stdout"
        }
      ]
    },
    {
      "cell_type": "markdown",
      "metadata": {
        "id": "xfribMw_G1im"
      },
      "source": [
        "#Clase string\n",
        "Es manejada como un arreglo (c o java) o lista (python) telefono = \"Huawei mate 30 pro\"\n",
        "\n"
      ]
    },
    {
      "cell_type": "code",
      "metadata": {
        "id": "A3p9Yr_pHLxY",
        "outputId": "144a352e-75e4-4b01-e083-1a7bd2a66c3a",
        "colab": {
          "base_uri": "https://localhost:8080/",
          "height": 34
        }
      },
      "source": [
        "telefono = \"Huawei mate 30 pro\"\n",
        "print (telefono[5])"
      ],
      "execution_count": 16,
      "outputs": [
        {
          "output_type": "stream",
          "text": [
            "i\n"
          ],
          "name": "stdout"
        }
      ]
    },
    {
      "cell_type": "markdown",
      "metadata": {
        "id": "I8--qXeiIJ8a"
      },
      "source": [
        "# Slicing (rebanado)\n",
        "[ini :stop :incremento]\n",
        "Nota : el stop no se incluye , termina en el valor anterior al stop"
      ]
    },
    {
      "cell_type": "code",
      "metadata": {
        "id": "PoyoAM9GGDfR",
        "outputId": "bfb3758a-57e5-4fe2-f7c2-d7a13e37918e",
        "colab": {
          "base_uri": "https://localhost:8080/",
          "height": 102
        }
      },
      "source": [
        "print (telefono[7:11:1])\n",
        "#el inicio y el incremento son opcionales\n",
        "print(telefono[:11:])\n",
        "# el valor por defecto de stop \n",
        "print (telefono[::])\n",
        "# incremento negativo\n",
        "print(telefono[::-1])\n",
        "#slacing negativo\n",
        "ini = -3\n",
        "inc = 1\n",
        "print(telefono[-3::1])"
      ],
      "execution_count": 27,
      "outputs": [
        {
          "output_type": "stream",
          "text": [
            "mate\n",
            "Huawei mate\n",
            "Huawei mate 30 pro\n",
            "orp 03 etam iewauH\n",
            "pro\n"
          ],
          "name": "stdout"
        }
      ]
    },
    {
      "cell_type": "markdown",
      "metadata": {
        "id": "hZp5xVcONMdt"
      },
      "source": [
        "#Funciones de String\n",
        "Existen métodos muy utiles en esta clase "
      ]
    },
    {
      "cell_type": "code",
      "metadata": {
        "id": "p8MSwMPZNWIh",
        "outputId": "e56a920c-0ea5-45d9-ee8c-51b6fa4a8ef2",
        "colab": {
          "base_uri": "https://localhost:8080/",
          "height": 340
        }
      },
      "source": [
        "facultad = \"    facultad de estudios superiores aragón     \\n\"\n",
        "print(facultad)\n",
        "print(facultad.count(\"u\")) #cuenta el numero de elementos de la cadena \n",
        "print(facultad.find(\"s\")) #cuenta en numero de elementos desde el inicio hasta elemento seleccionado\n",
        "print(facultad.strip()) #elimina los espacios al principio y al final\n",
        "\n",
        "tamaño = len(facultad)  \n",
        "print(len(facultad))  # cuenta el numero total de elementos de la cadena\n",
        "print(f\"tamaño de la cadena es {tamaño} caracteres\")\n",
        "\n",
        "print (facultad)\n",
        "print(facultad.strip().split(\" \"))# crea una lista de la cadena sin tomar encuenta el elemento seleccionado\n",
        "\n",
        "print(\"-------------------\")\n",
        "\n",
        "\n",
        "#copiar cadenas \n",
        "otra_cadena = facultad\n",
        "print (otra_cadena)\n",
        "otra_cadena = \"FES Aragón\"\n",
        "print (facultad)\n",
        "\n",
        "#copiar listas\n",
        "colores = [\"rojo\",\"verde\"]\n",
        "otra = colores.copy()\n",
        "print(colores)\n",
        "print (otra)\n",
        "otra.append(\"rosa\")\n",
        "print(colores)\n",
        "print(otra)"
      ],
      "execution_count": 42,
      "outputs": [
        {
          "output_type": "stream",
          "text": [
            "    facultad de estudios superiores aragón     \n",
            "\n",
            "3\n",
            "17\n",
            "facultad de estudios superiores aragón\n",
            "48\n",
            "tamaño de la cadena es 48 caracteres\n",
            "    facultad de estudios superiores aragón     \n",
            "\n",
            "['facultad', 'de', 'estudios', 'superiores', 'aragón']\n",
            "-------------------\n",
            "    facultad de estudios superiores aragón     \n",
            "\n",
            "    facultad de estudios superiores aragón     \n",
            "\n",
            "['rojo', 'verde']\n",
            "['rojo', 'verde']\n",
            "['rojo', 'verde']\n",
            "['rojo', 'verde', 'rosa']\n"
          ],
          "name": "stdout"
        }
      ]
    }
  ]
}