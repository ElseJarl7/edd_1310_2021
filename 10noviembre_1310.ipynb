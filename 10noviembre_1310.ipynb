{
  "nbformat": 4,
  "nbformat_minor": 0,
  "metadata": {
    "colab": {
      "name": "10noviembre_1310.ipynb",
      "provenance": [],
      "collapsed_sections": [],
      "authorship_tag": "ABX9TyOsLS76I5TMe03mggq8CWOB",
      "include_colab_link": true
    },
    "kernelspec": {
      "name": "python3",
      "display_name": "Python 3"
    }
  },
  "cells": [
    {
      "cell_type": "markdown",
      "metadata": {
        "id": "view-in-github",
        "colab_type": "text"
      },
      "source": [
        "<a href=\"https://colab.research.google.com/github/ElseJarl7/edd_1310_2021/blob/master/10noviembre_1310.ipynb\" target=\"_parent\"><img src=\"https://colab.research.google.com/assets/colab-badge.svg\" alt=\"Open In Colab\"/></a>"
      ]
    },
    {
      "cell_type": "code",
      "metadata": {
        "id": "jp6AeG8mNEUd",
        "outputId": "1800bb08-8e7a-493a-d26c-65439f24adf6",
        "colab": {
          "base_uri": "https://localhost:8080/"
        }
      },
      "source": [
        "class Nodo:\n",
        "    def  __init__ (self, dato):\n",
        "        self.__dato = dato\n",
        "        self.__siguiente = None\n",
        "\n",
        "    def get_dato (self):\n",
        "        return self.__dato\n",
        "\n",
        "    def set_dato (self, d):\n",
        "        self.__dato = d\n",
        "\n",
        "    def get_siguiente (self):\n",
        "        return self.__siguiente\n",
        "\n",
        "    def set_siguiente (self, d):\n",
        "        self.__siguiente = d\n",
        "\n",
        "\n",
        "    def show (self):\n",
        "        curr_node = self  #head\n",
        "        print(\"Inicio de la estructura ligada\") \n",
        "        print(\"|\" + str(curr_node.get_dato()) +  \"| -->\" , end = \"\")\n",
        "        while (curr_node.get_siguiente() != None ):  #p\n",
        "            curr_node = curr_node.get_siguiente()\n",
        "            print(\"|\" + str(curr_node.get_dato() ) + \"| -->\", end = \"\")\n",
        "        print(\"\\nFin\")\n",
        "\n",
        "#ejemplo 1\n",
        "a = Nodo(10)\n",
        "\n",
        "\n",
        "#ejemplo 2\n",
        "a.set_siguiente(Nodo(20))\n",
        "a.show()\n",
        "\n",
        "#ejemplo 3\n",
        "a.get_siguiente().set_siguiente(Nodo(30))\n",
        "a.show()\n",
        "\n",
        "#ejemplo 4\n",
        "a.get_siguiente().get_siguiente().set_siguiente(Nodo(40))\n",
        "a.show()\n",
        "\n",
        "#ejemplo 5\n",
        "a.get_siguiente().get_siguiente().get_siguiente().set_siguiente(Nodo(50))\n",
        "a.show()\n",
        "\n",
        "#Para cambiar el valor del primer node, 10 por 12, ejemplo 6\n",
        "a.set_dato(12)\n",
        "a.show()\n",
        "\n",
        "#ejemplo 7\n",
        "a.get_siguiente().get_siguiente().get_siguiente().set_dato(46)\n",
        "a.show()\n",
        "# ejemplo8\n",
        "a.get_siguiente().set_dato(15)\n",
        "a.show()\n",
        "\n",
        "a.get_siguiente().get_siguiente().get_siguiente().set_siguiente(None)\n",
        "a.show()"
      ],
      "execution_count": 29,
      "outputs": [
        {
          "output_type": "stream",
          "text": [
            "Inicio de la estructura ligada\n",
            "|10| -->|20| -->\n",
            "Fin\n",
            "Inicio de la estructura ligada\n",
            "|10| -->|20| -->|30| -->\n",
            "Fin\n",
            "Inicio de la estructura ligada\n",
            "|10| -->|20| -->|30| -->|40| -->\n",
            "Fin\n",
            "Inicio de la estructura ligada\n",
            "|10| -->|20| -->|30| -->|40| -->|50| -->\n",
            "Fin\n",
            "Inicio de la estructura ligada\n",
            "|12| -->|20| -->|30| -->|40| -->|50| -->\n",
            "Fin\n",
            "Inicio de la estructura ligada\n",
            "|12| -->|20| -->|30| -->|46| -->|50| -->\n",
            "Fin\n",
            "Inicio de la estructura ligada\n",
            "|12| -->|15| -->|30| -->|46| -->|50| -->\n",
            "Fin\n",
            "Inicio de la estructura ligada\n",
            "|12| -->|15| -->|30| -->|46| -->\n",
            "Fin\n"
          ],
          "name": "stdout"
        }
      ]
    }
  ]
}