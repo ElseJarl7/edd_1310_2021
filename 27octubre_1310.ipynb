{
  "nbformat": 4,
  "nbformat_minor": 0,
  "metadata": {
    "colab": {
      "name": "27octubre_1310.ipynb",
      "provenance": [],
      "authorship_tag": "ABX9TyMHxBcYMcmyj1pWhbo/eYC4",
      "include_colab_link": true
    },
    "kernelspec": {
      "name": "python3",
      "display_name": "Python 3"
    }
  },
  "cells": [
    {
      "cell_type": "markdown",
      "metadata": {
        "id": "view-in-github",
        "colab_type": "text"
      },
      "source": [
        "<a href=\"https://colab.research.google.com/github/ElseJarl7/edd_1310_2021/blob/master/27octubre_1310.ipynb\" target=\"_parent\"><img src=\"https://colab.research.google.com/assets/colab-badge.svg\" alt=\"Open In Colab\"/></a>"
      ]
    },
    {
      "cell_type": "code",
      "metadata": {
        "id": "gkVSA9FKCQkg",
        "outputId": "a5235430-1b3f-4c53-ce7f-d95d638d86d2",
        "colab": {
          "base_uri": "https://localhost:8080/",
          "height": 51
        }
      },
      "source": [
        "class Computadora: \n",
        "    def __init__ ( self , m , p ):  \n",
        "        self.__marca= m\n",
        "        self.__procesador= p\n",
        " \n",
        "    def to_string( self ):\n",
        "        return \"Marca:\"+self.__marca+\" Procesador:\"+self.__procesador\n",
        "    def set_marca(self , m):\n",
        "        self.__marca = m\n",
        "    def get_marca (self):\n",
        "        return self.__marca\n",
        "    def set_procesador (self, p):\n",
        "        self._procesador = p\n",
        "    def get_procesador (self):\n",
        "        return self.__procesador\n",
        "\n",
        "mi_pc = Computadora (\"Toshiba\", \"Intel i7\")\n",
        "mi_pc.__marca = \"HP \"\n",
        "mi_pc.set_marca(\"HP co.\")\n",
        "print(mi_pc.to_string())\n",
        "#print(mi_pc._procesador)\n",
        "print (mi_pc.get_procesador())"
      ],
      "execution_count": 4,
      "outputs": [
        {
          "output_type": "stream",
          "text": [
            "Marca:HP co. Procesador:Intel i7\n",
            "Intel i7\n"
          ],
          "name": "stdout"
        }
      ]
    },
    {
      "cell_type": "markdown",
      "metadata": {
        "id": "d9v_BQXoGsxK"
      },
      "source": [
        "# encapsulamiento python 3\n",
        "## tradicional tipo Java\n",
        "      void setAtributo (val  )\n",
        "      tipo getAtributo ( )\n",
        "#estilo python 3\n",
        "UTILIZANDO DECORADORES\n",
        "- @property\n",
        "- @"
      ]
    },
    {
      "cell_type": "code",
      "metadata": {
        "id": "fKqezKRnH0T1",
        "outputId": "cd58d486-4716-4473-ed0a-6c792a2a7a02",
        "colab": {
          "base_uri": "https://localhost:8080/",
          "height": 102
        }
      },
      "source": [
        "class Computadora:\n",
        "    def __init__ (self, m , p):\n",
        "        self.marca = m # se manda a llamar el decorador @property\n",
        "        self.procesador = p #de igual forma se llama al decorador @property\n",
        "\n",
        "    @property   #declara como átributo privado y funciona como método get\n",
        "    def marca ( self ):\n",
        "        return self.__marca\n",
        "    \n",
        "    @marca.setter\n",
        "    def marca ( self, m):\n",
        "        print(\"En el SETTER de MARCA\")\n",
        "        self.__marca = m\n",
        "\n",
        "\n",
        "    @property \n",
        "    def procesador (self):\n",
        "        return self.__procesador\n",
        "\n",
        "    @procesador.setter\n",
        "    def procesador (self , p):\n",
        "        print(\"En el método set de procesador\")\n",
        "        self.__procesador = p\n",
        "\n",
        "    def to_string (self):\n",
        "        return \"marca: \" + self.marca + \" Procesador: \" + self.procesador \n",
        "\n",
        "mi_pc2 = Computadora (\"Mac Book Pro\", \"Intel i7\")\n",
        "print(mi_pc2.to_string())\n",
        "mi_pc2.marca = \"Dell\"\n",
        "print( mi_pc2.to_string() )"
      ],
      "execution_count": 16,
      "outputs": [
        {
          "output_type": "stream",
          "text": [
            "En el SETTER de MARCA\n",
            "En el método set de procesador\n",
            "marca: Mac Book Pro Procesador: Intel i7\n",
            "En el SETTER de MARCA\n",
            "marca: Dell Procesador: Intel i7\n"
          ],
          "name": "stdout"
        }
      ]
    },
    {
      "cell_type": "code",
      "metadata": {
        "id": "4nnGrZ4zQjhL",
        "outputId": "c6d35e34-217b-4ee8-f6c9-11794b9a2f39",
        "colab": {
          "base_uri": "https://localhost:8080/",
          "height": 85
        }
      },
      "source": [
        "# herencia , pasando la clase base a la declaración\n",
        "class ServidorEmpresarial (Computadora):\n",
        "    def __init__(self):\n",
        "        print(\"Hola servidor\")\n",
        "server = ServidorEmpresarial()\n",
        "server.marca = 'Sun Micro Systems'\n",
        "server.procesador = \"intel i7\"\n",
        "print(server.to_string())"
      ],
      "execution_count": 18,
      "outputs": [
        {
          "output_type": "stream",
          "text": [
            "Hola servidor\n",
            "En el SETTER de MARCA\n",
            "En el método set de procesador\n",
            "marca: Sun Micro Systems Procesador: intel i7\n"
          ],
          "name": "stdout"
        }
      ]
    }
  ]
}