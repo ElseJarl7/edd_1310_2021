{
  "nbformat": 4,
  "nbformat_minor": 0,
  "metadata": {
    "colab": {
      "name": "12noviembre_1310.ipynb",
      "provenance": [],
      "authorship_tag": "ABX9TyMXgXc2lw/B8oaVySXar/Dl",
      "include_colab_link": true
    },
    "kernelspec": {
      "name": "python3",
      "display_name": "Python 3"
    }
  },
  "cells": [
    {
      "cell_type": "markdown",
      "metadata": {
        "id": "view-in-github",
        "colab_type": "text"
      },
      "source": [
        "<a href=\"https://colab.research.google.com/github/ElseJarl7/edd_1310_2021/blob/master/12noviembre_1310.ipynb\" target=\"_parent\"><img src=\"https://colab.research.google.com/assets/colab-badge.svg\" alt=\"Open In Colab\"/></a>"
      ]
    },
    {
      "cell_type": "code",
      "metadata": {
        "id": "txsDxkH0hm8b",
        "outputId": "23aeb02c-fbd0-4f85-a6d7-5b52147172e2",
        "colab": {
          "base_uri": "https://localhost:8080/"
        }
      },
      "source": [
        "class Nodo:\n",
        "    def  __init__ (self, dato):\n",
        "        self.dato = dato\n",
        "        self.siguiente = None\n",
        "\n",
        "\n",
        "# ejemplo 1\n",
        "a = Nodo(12)\n",
        "print(a.dato)\n",
        "print(a.siguiente)\n",
        "\n",
        "\n",
        "#ejemplo 2\n",
        "a.siguiente = Nodo(20)\n",
        "\n",
        "#ejemplo 3\n",
        "a.siguiente.siguiente= Nodo(30)\n",
        "\n",
        "#ejemplo 4\n",
        "a.siguiente.siguiente.siguiente = Nodo(40)\n",
        "\n",
        "#ejemplo 5\n",
        "a.siguiente.siguiente.siguiente.siguiente = Nodo(50)\n",
        "\n",
        "#Eliminando no 30 ejemplo 6\n",
        "a.siguiente.siguiente = a.siguiente.siguiente.siguiente\n",
        "\n",
        "#ejemplo 7\n",
        "a.siguiente.siguiente.dato = 45\n",
        "\n",
        "#ejemplo 8 insertar dato\n",
        "tmp = a.siguiente.siguiente.siguiente   # se crea una temporal, para no perder la referencia\n",
        "a.siguiente.siguiente.siguiente = Nodo(48)  # Creando el nodo que se va a crear\n",
        "a.siguiente.siguiente.siguiente.siguiente= tmp\n",
        "\n",
        "\n",
        "\n",
        "#corrido transversal\n",
        "\n",
        "curr_node = a\n",
        "print(curr_node.dato, \"-->\" , end=\"\")\n",
        "while (curr_node.siguiente != None):\n",
        "    curr_node =  curr_node.siguiente\n",
        "    print (curr_node.dato, \"-->\" , end= \"\")\n",
        "print(\"\")\n"
      ],
      "execution_count": 24,
      "outputs": [
        {
          "output_type": "stream",
          "text": [
            "12\n",
            "None\n",
            "12 -->20 -->45 -->48 -->50 -->\n"
          ],
          "name": "stdout"
        }
      ]
    },
    {
      "cell_type": "code",
      "metadata": {
        "id": "Ryog4Jv4vA-6",
        "outputId": "c42bbc2b-2284-4c07-f9c0-3ab94c5177fe",
        "colab": {
          "base_uri": "https://localhost:8080/"
        }
      },
      "source": [
        "class Nodo:\n",
        "    def  __init__ (self, dato, sig=None):\n",
        "        self.dato = dato\n",
        "        self.siguiente = None\n",
        "\n",
        "\n",
        "#ejemplo 1 RECONSTRUCCION\n",
        "a = Nodo (10)\n",
        "\n",
        "#ejemplo 2\n",
        "\n",
        "a = Nodo( 10 , Nodo(20) ) \n",
        "\n",
        "#corrido transversal\n",
        "\n",
        "curr_node = a\n",
        "print(curr_node.dato, \"-->\" , end=\"\")\n",
        "while (curr_node.siguiente != None):\n",
        "    curr_node =  curr_node.siguiente\n",
        "    print (curr_node.dato, \"-->\" , end= \"\")\n",
        "print(\"\")"
      ],
      "execution_count": 27,
      "outputs": [
        {
          "output_type": "stream",
          "text": [
            "10 -->\n"
          ],
          "name": "stdout"
        }
      ]
    }
  ]
}