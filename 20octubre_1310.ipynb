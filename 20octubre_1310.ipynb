{
  "nbformat": 4,
  "nbformat_minor": 0,
  "metadata": {
    "colab": {
      "name": "20octubre_1310.ipynb",
      "provenance": [],
      "authorship_tag": "ABX9TyOe/mEPeG/t/PQWPFq0S8K4",
      "include_colab_link": true
    },
    "kernelspec": {
      "name": "python3",
      "display_name": "Python 3"
    }
  },
  "cells": [
    {
      "cell_type": "markdown",
      "metadata": {
        "id": "view-in-github",
        "colab_type": "text"
      },
      "source": [
        "<a href=\"https://colab.research.google.com/github/ElseJarl7/edd_1310_2021/blob/master/20octubre_1310.ipynb\" target=\"_parent\"><img src=\"https://colab.research.google.com/assets/colab-badge.svg\" alt=\"Open In Colab\"/></a>"
      ]
    },
    {
      "cell_type": "code",
      "metadata": {
        "id": "PHwK1ppzvLdI"
      },
      "source": [
        "archivo = open ('numeros.txt', 'rt')\n",
        "for linea in archivo.readlines()[:3:]:\n",
        "    for trunc in linea.split(','):\n",
        "        print (int (trunc.strip()))"
      ],
      "execution_count": null,
      "outputs": []
    },
    {
      "cell_type": "markdown",
      "metadata": {
        "id": "WQ46gFbi2vng"
      },
      "source": [
        "# sintaxis del for en python\n",
        "\n",
        "dos versiones de for\n",
        "\n",
        "    1. range\n",
        "\n",
        "    2. in iterador"
      ]
    },
    {
      "cell_type": "code",
      "metadata": {
        "id": "CWjXtlZc2qvq",
        "outputId": "df22d738-4df5-45dd-a66e-b526e7bbb42b",
        "colab": {
          "base_uri": "https://localhost:8080/",
          "height": 170
        }
      },
      "source": [
        " r =range(0,10,2) # aqui seria range (inicio, final, )\n",
        "for x in  r:\n",
        "    print(x)\n",
        "\n",
        "colores = ['rojo', 'rosa', 'azul','fucsia']\n",
        "\n",
        "for indice in range (0,len(colores),1): # es equivalente al for de C (indice= 0; indice < 4:indice++)\n",
        "    #print (colores[indice])\n",
        "    colores[indice]= colores[indice].upper()\n",
        "\n",
        "# for sobre un iterador\n",
        "for col in colores:   # el iterador es 'col' el for saca el valor de colores y lo pone en col, y despues hace la instruccion/es en este caso print\n",
        "    print(col)"
      ],
      "execution_count": 20,
      "outputs": [
        {
          "output_type": "stream",
          "text": [
            "0\n",
            "2\n",
            "4\n",
            "6\n",
            "8\n",
            "ROJO\n",
            "ROSA\n",
            "AZUL\n",
            "FUCSIA\n"
          ],
          "name": "stdout"
        }
      ]
    },
    {
      "cell_type": "markdown",
      "metadata": {
        "id": "FVC1MsS57_nh"
      },
      "source": [
        "# generadores\n",
        "[valor for x in range()]\n",
        "\n",
        "[[0,0,0],\n",
        "  [0,0,0],\n",
        "  [0,0,0]]\n",
        "\n",
        "3 x 3"
      ]
    },
    {
      "cell_type": "code",
      "metadata": {
        "id": "VJAtTVPZ8VSV",
        "outputId": "7dc3b301-d097-4f4a-d42e-35250c4dbbb8",
        "colab": {
          "base_uri": "https://localhost:8080/",
          "height": 34
        }
      },
      "source": [
        "ren = 3\n",
        "col = 3\n",
        "lista = [[0 for x in range(col)]  for x in range (ren)] #toma el valor y crea una lista segun sea este\n",
        "print(lista)\n"
      ],
      "execution_count": 33,
      "outputs": [
        {
          "output_type": "stream",
          "text": [
            "[[0, 0, 0], [0, 0, 0], [0, 0, 0]]\n"
          ],
          "name": "stdout"
        }
      ]
    },
    {
      "cell_type": "markdown",
      "metadata": {
        "id": "wY8O1dlZ_LMd"
      },
      "source": [
        "# POO en Python\n",
        "- clase\n",
        "- creacion de objetos\n",
        "- constructor\n",
        "- encapsulamiento\n",
        "- métodos\n",
        "- atributos\n",
        "- herencia\n"
      ]
    },
    {
      "cell_type": "code",
      "metadata": {
        "id": "nvaAj-vO_GAg",
        "outputId": "f7791640-b7a9-472f-ce4b-e010517ad3a9",
        "colab": {
          "base_uri": "https://localhost:8080/",
          "height": 34
        }
      },
      "source": [
        "class Computadora: \n",
        "    def __init__ ( self , m , p ):  # 2 __ antes y 2 __ despues\n",
        "        self.__marca= m\n",
        "        self.__procesador= p\n",
        "\n",
        "    def to_string( self ):\n",
        "        return \"Marca:\"+self.__marca+\" Procesador:\"+self.__procesador\n",
        "\n",
        "mi_pc = Computadora (\"Toshiba\", \"Intel i7\")\n",
        "mi_pc.__marca = \"HP \"\n",
        "print(mi_pc.to_string())"
      ],
      "execution_count": 37,
      "outputs": [
        {
          "output_type": "stream",
          "text": [
            "Marca:Toshiba Procesador:Intel i7\n"
          ],
          "name": "stdout"
        }
      ]
    }
  ]
}