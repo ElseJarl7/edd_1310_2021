{
  "nbformat": 4,
  "nbformat_minor": 0,
  "metadata": {
    "colab": {
      "name": "Tarea3.ipynb",
      "provenance": [],
      "authorship_tag": "ABX9TyPoLKR2Fjkif5nWZIu+MloW",
      "include_colab_link": true
    },
    "kernelspec": {
      "name": "python3",
      "display_name": "Python 3"
    }
  },
  "cells": [
    {
      "cell_type": "markdown",
      "metadata": {
        "id": "view-in-github",
        "colab_type": "text"
      },
      "source": [
        "<a href=\"https://colab.research.google.com/github/ElseJarl7/edd_1310_2021/blob/master/Tarea3.ipynb\" target=\"_parent\"><img src=\"https://colab.research.google.com/assets/colab-badge.svg\" alt=\"Open In Colab\"/></a>"
      ]
    },
    {
      "cell_type": "code",
      "metadata": {
        "id": "kZPVsFO_AtCG",
        "outputId": "f6b68a41-7db7-4745-9aac-1b82e723212b",
        "colab": {
          "base_uri": "https://localhost:8080/",
          "height": 34
        }
      },
      "source": [
        "class Persona:\n",
        "    def __init__ (self , nombre , edad , estatura):\n",
        "     self.__nombre = nombre\n",
        "     self.__edad = edad\n",
        "     self.__estatura = estatura\n",
        "   \n",
        "    def comer (self):\n",
        "      return print ('metodo comer')\n",
        "    def dormir (self):\n",
        "      return print ('metodo dormir')\n",
        "    def get_nombre (self):\n",
        "      return self.__nombre\n",
        " \n",
        "persona_uno = Persona ('Rubén', 21, 1.85)\n",
        "print (persona_uno.get_nombre())"
      ],
      "execution_count": null,
      "outputs": [
        {
          "output_type": "stream",
          "text": [
            "Rubén\n"
          ],
          "name": "stdout"
        }
      ]
    },
    {
      "cell_type": "code",
      "metadata": {
        "id": "iF_4NRj8jyn1",
        "outputId": "6a8eaacf-e947-4bb1-d355-36e995d19f97",
        "colab": {
          "base_uri": "https://localhost:8080/",
          "height": 34
        }
      },
      "source": [
        "class Celular:\n",
        "    def __init__ (self , marca , modelo, espacio_memoria):\n",
        "     self.__marca = marca\n",
        "     self.__modelo = modelo\n",
        "     self.__espacio_memoria = espacio_memoria\n",
        "   \n",
        "    def llamar (self):\n",
        "      return print ('metodo llamar')\n",
        "    def poner_alarma (self):\n",
        "      return print ('metodo poner alarma')\n",
        "    def get_marca (self):\n",
        "      return self.__marca\n",
        " \n",
        "celular_uno = Celular ('Huawei', 'adggds', '50 Gb')\n",
        "print (celular_uno.get_marca())"
      ],
      "execution_count": null,
      "outputs": [
        {
          "output_type": "stream",
          "text": [
            "Huawei\n"
          ],
          "name": "stdout"
        }
      ]
    }
  ]
}