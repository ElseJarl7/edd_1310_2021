{
  "nbformat": 4,
  "nbformat_minor": 0,
  "metadata": {
    "colab": {
      "name": "Untitled0.ipynb",
      "provenance": [],
      "authorship_tag": "ABX9TyPaWSxHfUYLfCksgONvWDvN",
      "include_colab_link": true
    },
    "kernelspec": {
      "name": "python3",
      "display_name": "Python 3"
    }
  },
  "cells": [
    {
      "cell_type": "markdown",
      "metadata": {
        "id": "view-in-github",
        "colab_type": "text"
      },
      "source": [
        "<a href=\"https://colab.research.google.com/github/ElseJarl7/edd_1310_2021/blob/master/29septiembre.ipynb\" target=\"_parent\"><img src=\"https://colab.research.google.com/assets/colab-badge.svg\" alt=\"Open In Colab\"/></a>"
      ]
    },
    {
      "cell_type": "code",
      "metadata": {
        "id": "d1ZVywXqs4Xt"
      },
      "source": [
        "edad = 10"
      ],
      "execution_count": 9,
      "outputs": []
    },
    {
      "cell_type": "code",
      "metadata": {
        "id": "iCkjSp37vO5Z",
        "outputId": "d4eb3c8c-2ddb-429c-a393-76aed3637ae6",
        "colab": {
          "base_uri": "https://localhost:8080/",
          "height": 51
        }
      },
      "source": [
        "print (edad)\n",
        "colores = ['rojo', 'azul', 'verde', 'morado', 'violeta']\n",
        "print (colores)"
      ],
      "execution_count": 20,
      "outputs": [
        {
          "output_type": "stream",
          "text": [
            "10\n",
            "['rojo', 'azul', 'verde', 'morado', 'violeta']\n"
          ],
          "name": "stdout"
        }
      ]
    },
    {
      "cell_type": "code",
      "metadata": {
        "id": "6hCOnWhmwaFO",
        "outputId": "93bda0f3-7567-456c-9904-87dc469d8d6e",
        "colab": {
          "base_uri": "https://localhost:8080/",
          "height": 34
        }
      },
      "source": [
        "print(colores[3])"
      ],
      "execution_count": 30,
      "outputs": [
        {
          "output_type": "stream",
          "text": [
            "morado\n"
          ],
          "name": "stdout"
        }
      ]
    },
    {
      "cell_type": "code",
      "metadata": {
        "id": "Sl3-bhiew7aC",
        "outputId": "78fc2c4e-c8e8-4061-f463-bb047551bcb1",
        "colab": {
          "base_uri": "https://localhost:8080/",
          "height": 68
        }
      },
      "source": [
        "print(colores[2][2:4])\n",
        "nombre = \"Alberto\"\n",
        "print (nombre[0])\n",
        "print (nombre[0:3:1])"
      ],
      "execution_count": 31,
      "outputs": [
        {
          "output_type": "stream",
          "text": [
            "rd\n",
            "A\n",
            "Alb\n"
          ],
          "name": "stdout"
        }
      ]
    },
    {
      "cell_type": "markdown",
      "metadata": {
        "id": "CyVdaSZzyf7k"
      },
      "source": [
        "# For en Python 3\n",
        "2 variantes\n",
        "  1.j in range(ini, tope, incremento)\n",
        "  2.in [iterador]"
      ]
    },
    {
      "cell_type": "code",
      "metadata": {
        "id": "a_xb1Hi6yEiO",
        "outputId": "c701aa5d-58e9-4a58-ff41-3bac159b0993",
        "colab": {
          "base_uri": "https://localhost:8080/",
          "height": 129
        }
      },
      "source": [
        "for j in range (0,5,1):\n",
        "print(colores[j])"
      ],
      "execution_count": 32,
      "outputs": [
        {
          "output_type": "error",
          "ename": "IndentationError",
          "evalue": "ignored",
          "traceback": [
            "\u001b[0;36m  File \u001b[0;32m\"<ipython-input-32-6b9d8be183bf>\"\u001b[0;36m, line \u001b[0;32m2\u001b[0m\n\u001b[0;31m    print(colores[j])\u001b[0m\n\u001b[0m        ^\u001b[0m\n\u001b[0;31mIndentationError\u001b[0m\u001b[0;31m:\u001b[0m expected an indented block\n"
          ]
        }
      ]
    },
    {
      "cell_type": "code",
      "metadata": {
        "id": "oKOS_JgX0AZs",
        "outputId": "91a96dff-d302-4c59-8cbb-4375432ce2a1",
        "colab": {
          "base_uri": "https://localhost:8080/",
          "height": 102
        }
      },
      "source": [
        "for color in colores:\n",
        "  print(color)"
      ],
      "execution_count": 27,
      "outputs": [
        {
          "output_type": "stream",
          "text": [
            "rojo\n",
            "azul\n",
            "verde\n",
            "morado\n",
            "violeta\n"
          ],
          "name": "stdout"
        }
      ]
    },
    {
      "cell_type": "code",
      "metadata": {
        "id": "zX_vS5Rz0leL",
        "outputId": "628158e8-e336-4e2e-806d-50901c1c2fc0",
        "colab": {
          "base_uri": "https://localhost:8080/",
          "height": 136
        }
      },
      "source": [
        "for j in range (0,len(nombre), 1):\n",
        "  print (nombre[j])"
      ],
      "execution_count": 26,
      "outputs": [
        {
          "output_type": "stream",
          "text": [
            "A\n",
            "l\n",
            "b\n",
            "e\n",
            "r\n",
            "t\n",
            "o\n"
          ],
          "name": "stdout"
        }
      ]
    },
    {
      "cell_type": "code",
      "metadata": {
        "id": "oCJhQ3JO09KJ",
        "outputId": "a0d9dcb1-ff15-47bc-85d7-0de443f4c8e6",
        "colab": {
          "base_uri": "https://localhost:8080/",
          "height": 136
        }
      },
      "source": [
        "for nom in nombre:\n",
        "  print(nom)"
      ],
      "execution_count": 29,
      "outputs": [
        {
          "output_type": "stream",
          "text": [
            "A\n",
            "l\n",
            "b\n",
            "e\n",
            "r\n",
            "t\n",
            "o\n"
          ],
          "name": "stdout"
        }
      ]
    },
    {
      "cell_type": "markdown",
      "metadata": {
        "id": "TzEiWYHD1tcl"
      },
      "source": [
        "# Qué es Markdown\n",
        "Markdown es un lenguaje de marcado para documentar código. El objetivo es simplicar la escritura de el lenguaje de html.\n",
        "___\n",
        "**negritas**\n",
        "\n",
        "o\n",
        "***\n",
        "\n",
        "Más información en: [Github Cheatsheet Mardown](https://github.com/adam-p/markdown-here/wiki/Markdown-Cheatsheet)\n",
        "***\n",
        "![Fes](data:image/jpeg;base64,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)\n"
      ]
    }
  ]
}