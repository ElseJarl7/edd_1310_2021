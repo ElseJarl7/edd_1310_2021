{
  "nbformat": 4,
  "nbformat_minor": 0,
  "metadata": {
    "colab": {
      "name": "Untitled0.ipynb",
      "provenance": [],
      "authorship_tag": "ABX9TyNsK1HHgO+sfrnGidjiq296",
      "include_colab_link": true
    },
    "kernelspec": {
      "name": "python3",
      "display_name": "Python 3"
    }
  },
  "cells": [
    {
      "cell_type": "markdown",
      "metadata": {
        "id": "view-in-github",
        "colab_type": "text"
      },
      "source": [
        "<a href=\"https://colab.research.google.com/github/ElseJarl7/edd_1310_2021/blob/master/29septiembre.ipynb\" target=\"_parent\"><img src=\"https://colab.research.google.com/assets/colab-badge.svg\" alt=\"Open In Colab\"/></a>"
      ]
    },
    {
      "cell_type": "code",
      "metadata": {
        "id": "d1ZVywXqs4Xt"
      },
      "source": [
        "edad = 10"
      ],
      "execution_count": 9,
      "outputs": []
    },
    {
      "cell_type": "code",
      "metadata": {
        "id": "iCkjSp37vO5Z",
        "outputId": "d4eb3c8c-2ddb-429c-a393-76aed3637ae6",
        "colab": {
          "base_uri": "https://localhost:8080/",
          "height": 51
        }
      },
      "source": [
        "print (edad)\n",
        "colores = ['rojo', 'azul', 'verde', 'morado', 'violeta']\n",
        "print (colores)"
      ],
      "execution_count": 20,
      "outputs": [
        {
          "output_type": "stream",
          "text": [
            "10\n",
            "['rojo', 'azul', 'verde', 'morado', 'violeta']\n"
          ],
          "name": "stdout"
        }
      ]
    },
    {
      "cell_type": "code",
      "metadata": {
        "id": "6hCOnWhmwaFO",
        "outputId": "93bda0f3-7567-456c-9904-87dc469d8d6e",
        "colab": {
          "base_uri": "https://localhost:8080/",
          "height": 34
        }
      },
      "source": [
        "print(colores[3])"
      ],
      "execution_count": 30,
      "outputs": [
        {
          "output_type": "stream",
          "text": [
            "morado\n"
          ],
          "name": "stdout"
        }
      ]
    },
    {
      "cell_type": "code",
      "metadata": {
        "id": "Sl3-bhiew7aC",
        "outputId": "78fc2c4e-c8e8-4061-f463-bb047551bcb1",
        "colab": {
          "base_uri": "https://localhost:8080/",
          "height": 68
        }
      },
      "source": [
        "print(colores[2][2:4])\n",
        "nombre = \"Alberto\"\n",
        "print (nombre[0])\n",
        "print (nombre[0:3:1])"
      ],
      "execution_count": 31,
      "outputs": [
        {
          "output_type": "stream",
          "text": [
            "rd\n",
            "A\n",
            "Alb\n"
          ],
          "name": "stdout"
        }
      ]
    },
    {
      "cell_type": "markdown",
      "metadata": {
        "id": "CyVdaSZzyf7k"
      },
      "source": [
        "# For en Python 3\n",
        "2 variantes\n",
        "  1.j in range(ini, tope, incremento)\n",
        "  2.in [iterador]"
      ]
    },
    {
      "cell_type": "code",
      "metadata": {
        "id": "a_xb1Hi6yEiO",
        "outputId": "c701aa5d-58e9-4a58-ff41-3bac159b0993",
        "colab": {
          "base_uri": "https://localhost:8080/",
          "height": 129
        }
      },
      "source": [
        "for j in range (0,5,1):\n",
        "print(colores[j])"
      ],
      "execution_count": 32,
      "outputs": [
        {
          "output_type": "error",
          "ename": "IndentationError",
          "evalue": "ignored",
          "traceback": [
            "\u001b[0;36m  File \u001b[0;32m\"<ipython-input-32-6b9d8be183bf>\"\u001b[0;36m, line \u001b[0;32m2\u001b[0m\n\u001b[0;31m    print(colores[j])\u001b[0m\n\u001b[0m        ^\u001b[0m\n\u001b[0;31mIndentationError\u001b[0m\u001b[0;31m:\u001b[0m expected an indented block\n"
          ]
        }
      ]
    },
    {
      "cell_type": "code",
      "metadata": {
        "id": "oKOS_JgX0AZs",
        "outputId": "91a96dff-d302-4c59-8cbb-4375432ce2a1",
        "colab": {
          "base_uri": "https://localhost:8080/",
          "height": 102
        }
      },
      "source": [
        "for color in colores:\n",
        "  print(color)"
      ],
      "execution_count": 27,
      "outputs": [
        {
          "output_type": "stream",
          "text": [
            "rojo\n",
            "azul\n",
            "verde\n",
            "morado\n",
            "violeta\n"
          ],
          "name": "stdout"
        }
      ]
    },
    {
      "cell_type": "code",
      "metadata": {
        "id": "zX_vS5Rz0leL",
        "outputId": "628158e8-e336-4e2e-806d-50901c1c2fc0",
        "colab": {
          "base_uri": "https://localhost:8080/",
          "height": 136
        }
      },
      "source": [
        "for j in range (0,len(nombre), 1):\n",
        "  print (nombre[j])"
      ],
      "execution_count": 26,
      "outputs": [
        {
          "output_type": "stream",
          "text": [
            "A\n",
            "l\n",
            "b\n",
            "e\n",
            "r\n",
            "t\n",
            "o\n"
          ],
          "name": "stdout"
        }
      ]
    },
    {
      "cell_type": "code",
      "metadata": {
        "id": "oCJhQ3JO09KJ",
        "outputId": "a0d9dcb1-ff15-47bc-85d7-0de443f4c8e6",
        "colab": {
          "base_uri": "https://localhost:8080/",
          "height": 136
        }
      },
      "source": [
        "for nom in nombre:\n",
        "  print(nom)"
      ],
      "execution_count": 29,
      "outputs": [
        {
          "output_type": "stream",
          "text": [
            "A\n",
            "l\n",
            "b\n",
            "e\n",
            "r\n",
            "t\n",
            "o\n"
          ],
          "name": "stdout"
        }
      ]
    },
    {
      "cell_type": "markdown",
      "metadata": {
        "id": "TzEiWYHD1tcl"
      },
      "source": [
        "# Qué es Markdown\n",
        "Markdown es un lenguaje de marcado para documentar código. El objetivo es simplicar la escritura de el lenguaje de html.\n",
        "___\n",
        "**negritas**\n",
        "\n",
        "o\n",
        "***\n",
        "\n",
        "Más información en: [Github Cheatsheet\n",
        "***\n",
        "![Fes]()\n"
      ]
    }
  ]
}