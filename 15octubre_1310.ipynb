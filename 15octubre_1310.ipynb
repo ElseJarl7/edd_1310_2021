{
  "nbformat": 4,
  "nbformat_minor": 0,
  "metadata": {
    "colab": {
      "name": "15octubre_1310.ipynb",
      "provenance": [],
      "toc_visible": true,
      "authorship_tag": "ABX9TyO5USVyzsfYR7f+00T4ktln",
      "include_colab_link": true
    },
    "kernelspec": {
      "name": "python3",
      "display_name": "Python 3"
    }
  },
  "cells": [
    {
      "cell_type": "markdown",
      "metadata": {
        "id": "view-in-github",
        "colab_type": "text"
      },
      "source": [
        "<a href=\"https://colab.research.google.com/github/ElseJarl7/edd_1310_2021/blob/master/15octubre_1310.ipynb\" target=\"_parent\"><img src=\"https://colab.research.google.com/assets/colab-badge.svg\" alt=\"Open In Colab\"/></a>"
      ]
    },
    {
      "cell_type": "markdown",
      "metadata": {
        "id": "KNxo-Ur2Byis"
      },
      "source": [
        "# Módulos\n",
        "Son recursos reutilizables que contienen varias funciones que puede ser importadas a tu código."
      ]
    },
    {
      "cell_type": "code",
      "metadata": {
        "id": "Nc9NeQdVBbV_",
        "outputId": "6225e55f-42b9-431a-eca1-a1304531e42f",
        "colab": {
          "base_uri": "https://localhost:8080/",
          "height": 51
        }
      },
      "source": [
        "\"\"\"\n",
        "import mi_modulo #es un archivo python con puras funciones\n",
        "\n",
        "x = mi_modulo.sumar ( 4 , 7) # se invoca de esta manera\n",
        "print ( x )\n",
        "\n",
        "print( mi_modulo.multiplicar(3,5)) # o esta\n",
        "\"\"\""
      ],
      "execution_count": 4,
      "outputs": [
        {
          "output_type": "stream",
          "text": [
            "11\n",
            "15\n"
          ],
          "name": "stdout"
        }
      ]
    },
    {
      "cell_type": "code",
      "metadata": {
        "id": "WsAstj2FJcAC",
        "outputId": "af00cb0c-a83e-44f8-d334-1b8c3c101ec9",
        "colab": {
          "base_uri": "https://localhost:8080/",
          "height": 51
        }
      },
      "source": [
        "from mi_modulo import sumar, dividir # de esta manera podemos importar las funciones que deseemos\n",
        "                                         \n",
        "\n",
        "print(sumar(4,7))\n",
        "print(dividir(14,7))"
      ],
      "execution_count": 9,
      "outputs": [
        {
          "output_type": "stream",
          "text": [
            "11\n",
            "2.0\n"
          ],
          "name": "stdout"
        }
      ]
    },
    {
      "cell_type": "code",
      "metadata": {
        "id": "govG1-qkLPkt",
        "outputId": "ba5faae3-21fa-4291-f295-e7d3aa66d835",
        "colab": {
          "base_uri": "https://localhost:8080/",
          "height": 34
        }
      },
      "source": [
        "import mi_modulo as patito # tambien podemos ponerle un alias al modulo\n",
        "print(patito.sumar(4 , 6))"
      ],
      "execution_count": 6,
      "outputs": [
        {
          "output_type": "stream",
          "text": [
            "10\n"
          ],
          "name": "stdout"
        }
      ]
    },
    {
      "cell_type": "code",
      "metadata": {
        "id": "1FMs_aLFOEiT",
        "outputId": "d0943e26-3fa7-452b-84d8-15939596dcb4",
        "colab": {
          "base_uri": "https://localhost:8080/",
          "height": 35
        }
      },
      "source": [
        "from joke_generator import generate\n",
        "\n",
        "generate()"
      ],
      "execution_count": 14,
      "outputs": [
        {
          "output_type": "execute_result",
          "data": {
            "application/vnd.google.colaboratory.intrinsic+json": {
              "type": "string"
            },
            "text/plain": [
              "'I used to hate facial hair, but then it grew on me.'"
            ]
          },
          "metadata": {
            "tags": []
          },
          "execution_count": 14
        }
      ]
    },
    {
      "cell_type": "markdown",
      "metadata": {
        "id": "nKE2oE6dSgO2"
      },
      "source": [
        "# Archivos\n",
        "- open (str, str)\n",
        "  1. Nombre o ruta del archivo\n",
        "  2. Dos caracteres\n",
        "    - Modo de apertura del archivo(r, w, a appen si    y solo si el archivo existe, x append si y solo si el archivo no existe)\n",
        "\n",
        "    - Formato del archivo (t o b)"
      ]
    },
    {
      "cell_type": "code",
      "metadata": {
        "id": "HN2JE0quSbA9"
      },
      "source": [
        "#archivos\n",
        "\n",
        "archivo = open(\"saludo.txt\", \"wt\")\n",
        "archivo.write (\"Hola mundo \\n Ola ke ase \")\n",
        "archivo.close()\n"
      ],
      "execution_count": 18,
      "outputs": []
    },
    {
      "cell_type": "code",
      "metadata": {
        "id": "XGoBJjh1UdCH",
        "outputId": "2a67aec6-1742-42b1-c439-1efe29030f65",
        "colab": {
          "base_uri": "https://localhost:8080/",
          "height": 136
        }
      },
      "source": [
        "otro = open('./sample_data/anscombe.json','rt')\n",
        "datos = otro.read() # el archivo lo saca como string\n",
        "#print(datos)\n",
        "otro.close()\n",
        "\n",
        "\n",
        "arch = open('frutas.txt','rt')\n",
        "data = 'ppp'\n",
        "while (data != ''):\n",
        "    data = arch.readline()\n",
        "    print(data)\n",
        "\n",
        "arch.close()\n",
        "#print (arch.readline()) # imprime la primera linea\n",
        "arch = open('frutas.txt','rt')\n",
        "list_frutas = arch.readlines() # imprime los elementos en una lista\n",
        "print (list_frutas)\n",
        "arch.close()\n"
      ],
      "execution_count": 33,
      "outputs": [
        {
          "output_type": "stream",
          "text": [
            "manzana,pera ,  kiwi   , aguacate\n",
            "\n",
            "limon , naranja\n",
            "\n",
            "sandia , papaya\n",
            "\n",
            "['manzana,pera ,  kiwi   , aguacate\\n', 'limon , naranja\\n', 'sandia , papaya']\n"
          ],
          "name": "stdout"
        }
      ]
    },
    {
      "cell_type": "code",
      "metadata": {
        "id": "w_e09cFdWnyj"
      },
      "source": [
        ""
      ],
      "execution_count": null,
      "outputs": []
    }
  ]
}